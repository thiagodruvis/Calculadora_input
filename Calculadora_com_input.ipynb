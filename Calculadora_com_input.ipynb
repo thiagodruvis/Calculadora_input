{
  "nbformat": 4,
  "nbformat_minor": 0,
  "metadata": {
    "colab": {
      "provenance": [],
      "authorship_tag": "ABX9TyOu2pRh2pWz2c7luhX74/1W",
      "include_colab_link": true
    },
    "kernelspec": {
      "name": "python3",
      "display_name": "Python 3"
    },
    "language_info": {
      "name": "python"
    }
  },
  "cells": [
    {
      "cell_type": "markdown",
      "metadata": {
        "id": "view-in-github",
        "colab_type": "text"
      },
      "source": [
        "<a href=\"https://colab.research.google.com/github/thiagodruvis/Calculadora_input/blob/main/Calculadora_com_input.ipynb\" target=\"_parent\"><img src=\"https://colab.research.google.com/assets/colab-badge.svg\" alt=\"Open In Colab\"/></a>"
      ]
    },
    {
      "cell_type": "markdown",
      "source": [
        "Faça uma função calculadora que os números e as operações serão feitas pelo usuário. O código deve ficar rodando infinitamente até que o usuário escolha a opção de sair. No início, o programa mostrará a seguinte lista de operações:\n",
        "\n",
        "\n",
        "\n",
        "1: Soma\n",
        "\n",
        "2: Subtração\n",
        "\n",
        "3: Multiplicação\n",
        "\n",
        "4: Divisão\n",
        "\n",
        "0: Sair\n",
        "\n",
        "\n",
        "\n",
        "\n",
        "\n",
        "Digite o número para a operação correspondente e caso o usuário introduza qualquer outro, o sistema deve mostrar a mensagem “Essa opção não existe” e voltar ao menu de opções.\n",
        "\n",
        "\n",
        "\n",
        "Após a seleção, o sistema deve pedir para o usuário inserir o primeiro e segundo valor, um de cada. Depois precisa executar a operação e mostrar o resultado na tela. Quando o usuário escolher a opção “Sair”, o sistema irá parar."
      ],
      "metadata": {
        "id": "suuM1eLlsfO_"
      }
    },
    {
      "cell_type": "code",
      "execution_count": 16,
      "metadata": {
        "colab": {
          "base_uri": "https://localhost:8080/"
        },
        "id": "KCdDHI_EsQNi",
        "outputId": "46f01bd1-6cb2-49df-f8da-979c48d49037"
      },
      "outputs": [
        {
          "name": "stdout",
          "output_type": "stream",
          "text": [
            "\n",
            "--- Calculadora ---\n",
            "\n",
            "\n",
            " Escolha uma operação:\n",
            "\n",
            "1-Soma 2-Subtração 3-Multiplicação 4-Divisão 0:Sair\n",
            "1\n",
            "Digite o primeiro número da operação\n",
            "22\n",
            "Digite o segundo número da operação\n",
            "33\n",
            "Resultado:  55\n",
            "\n",
            "--- Calculadora ---\n",
            "\n",
            "\n",
            " Escolha uma operação:\n",
            "\n",
            "1-Soma 2-Subtração 3-Multiplicação 4-Divisão 0:Sair\n",
            "2\n",
            "Digite o primeiro número da operação\n",
            "34\n",
            "Digite o segundo número da operação\n",
            "5\n",
            "Resultado:  29\n",
            "\n",
            "--- Calculadora ---\n",
            "\n",
            "\n",
            " Escolha uma operação:\n",
            "\n",
            "1-Soma 2-Subtração 3-Multiplicação 4-Divisão 0:Sair\n",
            "3\n",
            "Digite o primeiro número da operação\n",
            "44\n",
            "Digite o segundo número da operação\n",
            "44\n",
            "Resultado:  1936\n",
            "\n",
            "--- Calculadora ---\n",
            "\n",
            "\n",
            " Escolha uma operação:\n",
            "\n",
            "1-Soma 2-Subtração 3-Multiplicação 4-Divisão 0:Sair\n",
            "4\n",
            "Digite o primeiro número da operação\n",
            "100\n",
            "Digite o segundo número da operação\n",
            "4\n",
            "Resultado:  25.0\n",
            "\n",
            "--- Calculadora ---\n",
            "\n",
            "\n",
            " Escolha uma operação:\n",
            "\n",
            "1-Soma 2-Subtração 3-Multiplicação 4-Divisão 0:Sair\n",
            "0\n"
          ]
        }
      ],
      "source": [
        "def calculadora(num1, num2, operacao):\n",
        "  if (operacao == 1):\n",
        "    return num1 + num2\n",
        "\n",
        "  elif (operacao == 2):\n",
        "    return num1 - num2\n",
        "\n",
        "  elif (operacao == 3):\n",
        "    return num1 * num2\n",
        "\n",
        "  elif (operacao == 4):\n",
        "    return  num1 / num2\n",
        "\n",
        "  else:\n",
        "      return 0\n",
        "\n",
        "executar = True\n",
        "\n",
        "while (executar == True):\n",
        "\n",
        "  # Exibição do Menu\n",
        "  print(\"\\n--- Calculadora ---\\n\")\n",
        "  print(\"\\n Escolha uma operação:\\n\")\n",
        "  print(\"1-Soma 2-Subtração 3-Multiplicação 4-Divisão 0:Sair\")\n",
        "\n",
        "  operacao = int(input())\n",
        "\n",
        "  if(operacao < 0) or(operacao >4 ):\n",
        "    print(\"opção inválida\")\n",
        "\n",
        "  elif(operacao == 0):\n",
        "      executar = False\n",
        "\n",
        "  else:\n",
        "    print(\"Digite o primeiro número da operação\")\n",
        "    num1 = int(input())\n",
        "    print(\"Digite o segundo número da operação\")\n",
        "    num2 = int(input())\n",
        "    resultado = calculadora(num1, num2, operacao)\n",
        "    print(\"Resultado: \", resultado)\n",
        "\n"
      ]
    },
    {
      "cell_type": "code",
      "source": [],
      "metadata": {
        "id": "mH51IUzKw2jK"
      },
      "execution_count": null,
      "outputs": []
    }
  ]
}